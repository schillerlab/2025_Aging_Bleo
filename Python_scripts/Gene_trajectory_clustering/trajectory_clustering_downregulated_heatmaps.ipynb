{
 "cells": [
  {
   "cell_type": "code",
   "execution_count": null,
   "id": "319b279a-2332-466f-8fa9-12a49139c74d",
   "metadata": {},
   "outputs": [],
   "source": [
    "### Code for generating temporal gene expression heatmaps shown in Extended Data Figure 7"
   ]
  },
  {
   "cell_type": "code",
   "execution_count": 11,
   "id": "7a8643fe-c50a-4927-96c5-0d3f8a4a1a6b",
   "metadata": {},
   "outputs": [],
   "source": [
    "import pandas as pd\n",
    "import gseapy \n",
    "import diffxpy.api as de\n",
    "import warnings\n",
    "import os\n",
    "warnings.filterwarnings(\"ignore\")"
   ]
  },
  {
   "cell_type": "code",
   "execution_count": 12,
   "id": "2156b69b-1437-4f56-b6ff-4a72036083e4",
   "metadata": {},
   "outputs": [
    {
     "name": "stdout",
     "output_type": "stream",
     "text": [
      "The rpy2.ipython extension is already loaded. To reload it, use:\n",
      "  %reload_ext rpy2.ipython\n"
     ]
    }
   ],
   "source": [
    "import rpy2\n",
    "%load_ext rpy2.ipython"
   ]
  },
  {
   "cell_type": "code",
   "execution_count": 13,
   "id": "b4b4f645-5794-4115-9857-51a961bc099a",
   "metadata": {},
   "outputs": [],
   "source": [
    "%%R\n",
    "library(ggplot2)\n",
    "library(gdata)\n",
    "library(tidyr)\n",
    "library(pheatmap)\n",
    "library(tibble)\n",
    "library(openxlsx)\n",
    "library(clusterSim)\n",
    "library(viridis)\n",
    "library(dichromat)\n",
    "library(RColorBrewer)"
   ]
  },
  {
   "cell_type": "markdown",
   "id": "a00bcfa4-1ddd-4dd5-96e7-0a0713e6a102",
   "metadata": {},
   "source": [
    "### Pseudobulk with d37 DGEs"
   ]
  },
  {
   "cell_type": "code",
   "execution_count": 14,
   "id": "14735697-498b-4a4a-bc5f-6d13ae658d8d",
   "metadata": {},
   "outputs": [],
   "source": [
    "%%R\n",
    "logfc = \"025\"\n",
    "ncluster = \"11\"\n",
    "age = \"old\"\n",
    "compartment = \"pseudobulk\"\n",
    "\n",
    "c1_genes = read.csv(paste0(\"/home/michaelammeter/projects/aging/dge_splines/output/cluster_1_qval_logfc\", logfc, \"_ncluster\", ncluster, \"_\", age, \"_mice_d37_dge_set_zscore_pseudobulk.txt\"), sep = \"\\t\", header = FALSE)\n",
    "c2_genes = read.csv(paste0(\"/home/michaelammeter/projects/aging/dge_splines/output/cluster_2_qval_logfc\", logfc, \"_ncluster\", ncluster, \"_\", age, \"_mice_d37_dge_set_zscore_pseudobulk.txt\"), sep = \"\\t\", header = FALSE)\n",
    "c3_genes = read.csv(paste0(\"/home/michaelammeter/projects/aging/dge_splines/output/cluster_3_qval_logfc\", logfc, \"_ncluster\", ncluster, \"_\", age, \"_mice_d37_dge_set_zscore_pseudobulk.txt\"), sep = \"\\t\", header = FALSE)\n",
    "c4_genes = read.csv(paste0(\"/home/michaelammeter/projects/aging/dge_splines/output/cluster_4_qval_logfc\", logfc, \"_ncluster\", ncluster, \"_\", age, \"_mice_d37_dge_set_zscore_pseudobulk.txt\"), sep = \"\\t\", header = FALSE)\n",
    "c5_genes = read.csv(paste0(\"/home/michaelammeter/projects/aging/dge_splines/output/cluster_5_qval_logfc\", logfc, \"_ncluster\", ncluster, \"_\", age, \"_mice_d37_dge_set_zscore_pseudobulk.txt\"), sep = \"\\t\", header = FALSE)\n",
    "c6_genes = read.csv(paste0(\"/home/michaelammeter/projects/aging/dge_splines/output/cluster_6_qval_logfc\", logfc, \"_ncluster\", ncluster, \"_\", age, \"_mice_d37_dge_set_zscore_pseudobulk.txt\"), sep = \"\\t\", header = FALSE)\n",
    "c7_genes = read.csv(paste0(\"/home/michaelammeter/projects/aging/dge_splines/output/cluster_7_qval_logfc\", logfc, \"_ncluster\", ncluster, \"_\", age, \"_mice_d37_dge_set_zscore_pseudobulk.txt\"), sep = \"\\t\", header = FALSE)\n",
    "c8_genes = read.csv(paste0(\"/home/michaelammeter/projects/aging/dge_splines/output/cluster_8_qval_logfc\", logfc, \"_ncluster\", ncluster, \"_\", age, \"_mice_d37_dge_set_zscore_pseudobulk.txt\"), sep = \"\\t\", header = FALSE)\n",
    "c9_genes = read.csv(paste0(\"/home/michaelammeter/projects/aging/dge_splines/output/cluster_9_qval_logfc\", logfc, \"_ncluster\", ncluster, \"_\", age, \"_mice_d37_dge_set_zscore_pseudobulk.txt\"), sep = \"\\t\", header = FALSE)\n",
    "c10_genes = read.csv(paste0(\"/home/michaelammeter/projects/aging/dge_splines/output/cluster_10_qval_logfc\", logfc, \"_ncluster\", ncluster, \"_\", age, \"_mice_d37_dge_set_zscore_pseudobulk.txt\"), sep = \"\\t\", header = FALSE)\n",
    "c11_genes = read.csv(paste0(\"/home/michaelammeter/projects/aging/dge_splines/output/cluster_11_qval_logfc\", logfc, \"_ncluster\", ncluster, \"_\", age, \"_mice_d37_dge_set_zscore_pseudobulk.txt\"), sep = \"\\t\", header = FALSE)\n",
    "\n",
    "\n",
    "c1_genes <- c1_genes[,1]\n",
    "c2_genes <- c2_genes[,1]\n",
    "c3_genes <- c3_genes[,1]\n",
    "c4_genes <- c4_genes[,1]\n",
    "c5_genes <- c5_genes[,1]\n",
    "c6_genes <- c6_genes[,1]\n",
    "c7_genes <- c7_genes[,1]\n",
    "c9_genes <- c9_genes[,1]\n",
    "c10_genes <- c10_genes[,1]\n",
    "c11_genes <- c11_genes[,1]"
   ]
  },
  {
   "cell_type": "code",
   "execution_count": 15,
   "id": "655c30a8-b52e-4a49-9612-50eb4805761c",
   "metadata": {},
   "outputs": [
    {
     "name": "stdout",
     "output_type": "stream",
     "text": [
      "                  young_d0     young_d3    young_d10   young_d20    young_d30\n",
      "0610005C13Rik 0.0004096108 0.0004425363 8.499916e-05 0.000417581 0.0001669096\n",
      "0610009B22Rik 0.0054764547 0.0072335075 8.342048e-03 0.005473794 0.0073496680\n",
      "0610009E02Rik 0.0019553886 0.0016353056 2.050692e-03 0.001394189 0.0028642747\n",
      "0610009L18Rik 0.0039646410 0.0036877699 2.187992e-03 0.003763148 0.0018280994\n",
      "0610010F05Rik 0.0236682630 0.0200612950 2.563014e-02 0.029140440 0.0292729050\n",
      "0610010K14Rik 0.0029571240 0.0039616465 3.529876e-03 0.002945689 0.0032201582\n",
      "                 young_d37      old_d0       old_d3      old_d10      old_d20\n",
      "0610005C13Rik 0.0011192921 0.000506839 0.0005162548 0.0002106806 0.0004420795\n",
      "0610009B22Rik 0.0031431166 0.005796074 0.0074475952 0.0100747190 0.0105922595\n",
      "0610009E02Rik 0.0004456969 0.001488336 0.0022858190 0.0025060126 0.0014094330\n",
      "0610009L18Rik 0.0011766149 0.004547974 0.0031714860 0.0027202263 0.0039562110\n",
      "0610010F05Rik 0.0225881300 0.017539360 0.0162972880 0.0197559130 0.0233353710\n",
      "0610010K14Rik 0.0007185030 0.002822225 0.0025458827 0.0037961188 0.0031049980\n",
      "                   old_d30      old_d37\n",
      "0610005C13Rik 0.0003377212 0.0004653901\n",
      "0610009B22Rik 0.0097483920 0.0028493667\n",
      "0610009E02Rik 0.0013957446 0.0005294877\n",
      "0610009L18Rik 0.0034698793 0.0020829807\n",
      "0610010F05Rik 0.0249168480 0.0366891250\n",
      "0610010K14Rik 0.0017576892 0.0019543660\n"
     ]
    }
   ],
   "source": [
    "%%R\n",
    "pseudobulk_exp = read.csv(\"/media/HDD_1/David/LungAging/Splines_clustering/mean_expression_pseudobulk.csv\",\n",
    "                            row.names = 1)\n",
    "\n",
    "pseudobulk_exp_old <- pseudobulk_exp[,7:12]\n",
    "colnames(pseudobulk_exp_old) <- gsub(\"old_\", \"\", colnames(pseudobulk_exp_old))\n",
    "\n",
    "pseudobulk_exp_young <- pseudobulk_exp[,1:6]\n",
    "colnames(pseudobulk_exp_young) <- gsub(\"young_\", \"\", colnames(pseudobulk_exp_young))\n",
    "\n",
    "head(pseudobulk_exp)"
   ]
  },
  {
   "cell_type": "code",
   "execution_count": 21,
   "id": "e1c28b58-03a8-4783-b3ee-885372924b8c",
   "metadata": {},
   "outputs": [
    {
     "name": "stdout",
     "output_type": "stream",
     "text": [
      "Saving 6.67 x 6.67 in image\n",
      "Saving 6.67 x 6.67 in image\n",
      "Saving 6.67 x 6.67 in image\n",
      "Saving 6.67 x 6.67 in image\n",
      "Saving 6.67 x 6.67 in image\n",
      "Saving 6.67 x 6.67 in image\n",
      "Saving 6.67 x 6.67 in image\n",
      "Saving 6.67 x 6.67 in image\n",
      "Saving 6.67 x 6.67 in image\n",
      "Saving 6.67 x 6.67 in image\n",
      "Saving 6.67 x 6.67 in image\n",
      "Saving 6.67 x 6.67 in image\n",
      "Saving 6.67 x 6.67 in image\n",
      "Saving 6.67 x 6.67 in image\n",
      "Saving 6.67 x 6.67 in image\n",
      "Saving 6.67 x 6.67 in image\n",
      "Saving 6.67 x 6.67 in image\n",
      "Saving 6.67 x 6.67 in image\n",
      "Saving 6.67 x 6.67 in image\n",
      "Saving 6.67 x 6.67 in image\n",
      "Saving 6.67 x 6.67 in image\n",
      "Saving 6.67 x 6.67 in image\n"
     ]
    },
    {
     "data": {
      "image/png": "[encoded data removed]",
      "text/plain": [
       "<IPython.core.display.Image object>"
      ]
     },
     "metadata": {},
     "output_type": "display_data"
    }
   ],
   "source": [
    "%%R\n",
    "logfc = \"025\"\n",
    "age = \"old\"\n",
    "compartment = \"pseudobulk_d37_dge\"\n",
    "output = \"/home/michaelammeter/projects/aging/dge_splines/output/cluster_heatmaps/\"\n",
    "\n",
    "ncluster = \"11\"\n",
    "cluster = 11\n",
    "\n",
    "for (i in 1:cluster){\n",
    "    cluster_genes <- read.csv(paste0(\"/home/michaelammeter/projects/aging/dge_splines/output/cluster_\", i, \"_qval_logfc\", logfc, \"_ncluster\", ncluster, \"_\", age, \"_mice_d37_dge_set_zscore_pseudobulk.txt\"), \n",
    "                              sep = \"\\t\", header = FALSE)\n",
    "    cluster_genes <- cluster_genes[,1]\n",
    "\n",
    "    old_mice <- as.data.frame(pseudobulk_exp_old[cluster_genes, ])\n",
    "    old_mice <- apply(data.frame(old_mice), 1, scale)\n",
    "    rownames(old_mice) <- c(\"d0\", \"d3\", \"d10\", \"d20\", \"d30\", \"d37\")\n",
    "    old_mice <- t(old_mice)\n",
    "\n",
    "    plt_old <- pheatmap(mat = old_mice,\n",
    "                        main = paste0(\"Cluster \", i, \" - Old Mice\"),\n",
    "                        color = colorRampPalette(rev(brewer.pal(11, \"RdBu\")))(50),\n",
    "                        breaks = seq(-2, 2, by = 0.08),\n",
    "                        cellheight = 2,\n",
    "                        cellwidth = 30,\n",
    "                        cluster_cols = FALSE,\n",
    "                        cluster_rows = TRUE,\n",
    "                        show_rownames = FALSE)\n",
    "    filename_old = paste0(output, \"cluster_\", i, \"_old_mice\" ,\"_gene_expression_heatmap_logfc\", logfc, \"_dropNA_\", compartment, \"_\", age, \"_mice_ncluster\", ncluster, \".pdf\")\n",
    "    ggsave(filename = filename_old, plot = plt_old, scale = 1)\n",
    "\n",
    "    # Get the order of rows from the old heatmap\n",
    "    row_order <- plt_old$tree_row$order\n",
    "\n",
    "    young_mice <- as.data.frame(pseudobulk_exp_young[cluster_genes, ])\n",
    "    young_mice <- apply(data.frame(young_mice), 1, scale)\n",
    "    rownames(young_mice) <- c(\"d0\", \"d3\", \"d10\", \"d20\", \"d30\", \"d37\")\n",
    "    young_mice <- t(young_mice)\n",
    "\n",
    "    # Reorder the young_mice matrix to match the order of old_mice\n",
    "    young_mice <- young_mice[row_order, ]\n",
    "\n",
    "    plt_young <- pheatmap(mat = young_mice,\n",
    "                          main = paste0(\"Cluster \", i, \" - Young Mice\"),\n",
    "                          color = colorRampPalette(rev(brewer.pal(11, \"RdBu\")))(50),\n",
    "                          breaks = seq(-2, 2, by = 0.08),\n",
    "                          cellheight = 2,\n",
    "                          cellwidth = 30,\n",
    "                          cluster_cols = FALSE,\n",
    "                          cluster_rows = FALSE,\n",
    "                          show_rownames = FALSE)\n",
    "    filename_young = paste0(output, \"cluster_\", i, \"_young_mice\" ,\"_gene_expression_heatmap_logfc\", logfc, \"_dropNA_\", compartment, \"_\", age, \"_mice_ncluster\", ncluster, \".pdf\")\n",
    "    ggsave(filename = filename_young, plot = plt_young, scale = 1)\n",
    "}"
   ]
  }
 ],
 "metadata": {
  "kernelspec": {
   "display_name": "diffxpy",
   "language": "python",
   "name": "diffxpy"
  },
  "language_info": {
   "codemirror_mode": {
    "name": "ipython",
    "version": 3
   },
   "file_extension": ".py",
   "mimetype": "text/x-python",
   "name": "python",
   "nbconvert_exporter": "python",
   "pygments_lexer": "ipython3",
   "version": "3.9.19"
  }
 },
 "nbformat": 4,
 "nbformat_minor": 5
}
